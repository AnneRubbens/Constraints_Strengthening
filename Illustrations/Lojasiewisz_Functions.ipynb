{
  "metadata": {
    "kernelspec": {
      "name": "python",
      "display_name": "Python (Pyodide)",
      "language": "python"
    },
    "language_info": {
      "codemirror_mode": {
        "name": "python",
        "version": 3
      },
      "file_extension": ".py",
      "mimetype": "text/x-python",
      "name": "python",
      "nbconvert_exporter": "python",
      "pygments_lexer": "ipython3",
      "version": "3.8"
    }
  },
  "nbformat_minor": 5,
  "nbformat": 4,
  "cells": [
    {
      "id": "ac8c520a-001e-4306-a441-de6732930455",
      "cell_type": "markdown",
      "source": "# Read me\n\nThis script reproduces Figure 2 in [1].\n\n> [1] Rubbens, Anne, Hendrickx, Julien M., and Taylor, Adrien B. \"A constructive approach to strengthen algebraic descriptions of function and operator classes.\"\n\nGiven $(x_\\star,f_\\star,g_\\star)=(0,0,0)$, $(x_1,f_1,g_1)=(1,1/4,1/2)$, $x_2=3/8$ $\\mu=1/2$ and $L=1$, it plots the allowed region for $f_2$ as a function of $g_2$, according to \n  \n$p_L$, satisfied at ${(x_i,f_i,g_i),(x_j,f_j,g_j)}$ if and only if:\n      \n>$f_i\\leq f_\\star+\\frac{\\|g_i\\|^2}{2 \\mu}$, $f_i\\geq f_\\star$,  $f_i\\geq f_j+\\frac{1}{2}\\langle g_i+g_j, x_i-x_j\\rangle+\\frac{1}{4L}\\|g_i-g_j\\|^2-\\frac{L}{4} \\|x_i-x_j\\|^2$,\n\nand to $\\tilde{p}_L$, satisfied at ${(x_i,f_i,g_i),(x_j,f_j,g_j)}$ if and only if:\n>$f_i\\leq f_\\star+\\frac{\\|g_i\\|^2}{2 \\mu }, f_i\\geq f_\\star+\\frac{\\|g_i\\|^2}{2 L}$, and\n>$f_i\\geq f_j+\\frac{1}{2}\\langle g_i+g_j, x_i-x_j\\rangle+\\frac{1}{4L}\\|g_i-g_j\\|^2-\\frac{L}{4} \\|x_i-x_j\\|^2\n    +\\underset{0\\leq \\alpha \\leq  \\frac{2\\mu}{2L+\\mu}}{\\max } \\frac{\\alpha}{(1-\\alpha)(2\\mu-(L+\\mu)\\alpha)} \\left((1-\\alpha)^2(L+\\mu)(f_i-f_\\star-\\frac{\\|g_i\\|^2}{2L})-(L-\\mu)(f_j-f_\\star+\\frac{\\|g_j\\|^2}{2L})\\right)$",
      "metadata": {}
    },
    {
      "id": "d8924b78-d034-4113-8c8f-0dbb04644c9f",
      "cell_type": "code",
      "source": "import numpy as np\nimport matplotlib.pyplot as plt\nfrom scipy.optimize import minimize",
      "metadata": {
        "trusted": true
      },
      "outputs": [],
      "execution_count": null
    },
    {
      "id": "92fb0ad9-4744-48bd-9d72-b0cb242ea737",
      "cell_type": "code",
      "source": "def f_max(alpha, x1, f1, g1, x2, g2, L, mu):\n    \n#    Computation of the last condition in tilde{p}_L, i=1, j=2: upper bound on f2 to be minimized\n    \n    y = (1 - alpha) * (f1 - 0.5 * (g1 + g2) * (x1 - x2) - (1 / (4 * L)) * (g1 - g2) ** 2 + (L / 4) * (x1 - x2) ** 2) - \\\n        (alpha * g2 ** 2) / (2 * L) + alpha * (L / 4) * (x2 - x1 + (g2 + g1) / L) ** 2 * (L + mu) * (1 - alpha) ** 2 / \\\n        ((L + mu) * (1 - alpha) ** 2 - (L - mu))\n    return y\n\ndef f_min(alpha, x1, f1, g1, x2, g2, L, mu):\n\n#    Computation of the last condition in tilde{p}_L, i=2, j=1: lower bound on f2 to be maximized\n\n    y = -(f1 + 0.5 * (g1 + g2) * (x2 - x1) + (1 / (4 * L)) * (g1 - g2) ** 2 - (L / 4) * (x1 - x2) ** 2 + \\\n        (alpha / (1 - alpha)) * (f1 + (g1 ** 2) / (2 * L)) - (L / 4) * (L + mu) * (1 - alpha) * alpha / \\\n        ((L + mu) * (1 - alpha) ** 2 - (L - mu)) * (x1 - x2 + (g1 + g2) / L) ** 2)\n    return y",
      "metadata": {
        "trusted": true
      },
      "outputs": [],
      "execution_count": null
    },
    {
      "id": "3f69e0c2-dd51-4135-b15e-2f3fb8fb3f84",
      "cell_type": "markdown",
      "source": "Computation of the extremal value for $f_2$ such that ${(x_\\star,f_\\star,g\\star),(x_1, f_1, g_1),(x_2, f_2, g_2)}$ satisfies $p_L$ or $\\tilde{p}_L$\n\nArguments:\n\n>$x_\\star,f_\\star, g_\\star,x_1,f_1,g_1,x_2,g_2$: values of the dataset to be consistent with $p_L$ or $\\tilde{p}_L$\n\n>$L, \\mu$: parameters of $p_L$ or $\\tilde{p}_L$\n\n>objective: If objective>=0, extremal_val_loja computes the minimal value for $f_2$. Else, it computes its maximal value.   \n",
      "metadata": {}
    },
    {
      "id": "c1605099-3c3e-4e73-b99a-f44c729f1240",
      "cell_type": "code",
      "source": "\ndef extremal_val_loja(xs, fs, gs, x1, f1, g1, x2, g2, L, mu, constr, objective):\n\n    # Computation of the last condition in tilde{p}_L\n    # i=2, j=1\n    alpha = 1/10\n    fun_min = lambda alpha: f_min(alpha, x1, f1, g1, x2, g2, L, mu)\n    res_min = minimize(fun_min, alpha, bounds=[(0, 2*mu/(2*L+mu))])\n    fmin = -res_min.fun\n    # i=1, j=2\n    fun_max = lambda alpha: f_max(alpha, x1, f1, g1, x2, g2, L, mu)\n    res_max = minimize(fun_max, alpha, bounds=[(0, 2*mu/(2*L+mu))])\n    fmax = res_max.fun\n\n    \n    # Ensuring that {(xs, fs, gs), (x1, f1, g1), (x2, f2, g2)} satisfies p_L by bounding f2.\n    bound_min = max(0, fs + 0.5 * (gs + g2) * (x2 - xs) + (1 / (4 * L)) * (g2 - gs)**2 - (L / 4) * (x2 - xs)**2,\n                    f1 + 0.5 * (g1 + g2) * (x2 - x1) + (1 / (4 * L)) * (g2 - g1)**2 - (L / 4) * (x2 - x1)**2)\n    bound_max = min(g2**2 / (2 * mu),\n                    (fs + 0.5 * (gs + g2) * (x2 - xs) - (1 / (4 * L)) * (g2 - gs)**2 + (L / 4) * (x2 - xs)**2),\n                    (f1 + 0.5 * (g1 + g2) * (x2 - x1) - (1 / (4 * L)) * (g2 - g1)**2 + (L / 4) * (x2 - x1)**2))\n    if constr<=0:\n        bound_min = max(g2**2 / (2 * L), fmin, bound_min)     \n        bound_max = min(g2**2 / (2 * mu), fmax, bound_max)\n    bounds=[(bound_min,bound_max)]\n    # Initial value for f2\n    f2_0 = 1\n    # Minimization or maximization of f2\n    def fun_obj(f2):\n        return f2*objective\n\n    res = minimize(fun_obj, f2_0, bounds=bounds, options={'disp': False})\n    \n    return res.x[0]   \n",
      "metadata": {
        "trusted": true
      },
      "outputs": [],
      "execution_count": null
    },
    {
      "id": "adddc92b-feb9-498e-a4e7-3b2d9ffdced3",
      "cell_type": "code",
      "source": "# Dataset and parameters\nfs = 0\nxs = 0\ngs = 0\nx1 = 1\ng1 = 1/2\nf1 = 1/4\nx2 = 3/8\nL = 1\nmu = 1/2\n\n# Interval of values for g2\nN = 100\nG2_1 = np.linspace(0.0928, 3/8, N)\nG2_2 = np.linspace(0.0928, 0.337, N)\n\n\n# Initialize arrays for f2_min and f2_max\nf2_min = np.zeros((2, N))\nf2_max = np.zeros((2, N))\n\n# Compute the extremal values for f2 as a function of g2\nfor i in range(N):\n    f2_min[0, i] = extremal_val_loja(xs, fs, gs, x1, f1, g1, x2, G2_1[i], L, mu, 1, 1)\n    f2_max[0, i] = extremal_val_loja(xs, fs, gs, x1, f1, g1, x2, G2_1[i], L, mu, 1, -1)\n    f2_min[1, i] = extremal_val_loja(xs, fs, gs, x1, f1, g1, x2, G2_2[i], L, mu, -1, 1)\n    f2_max[1, i] = extremal_val_loja(xs, fs, gs, x1, f1, g1, x2, G2_2[i], L, mu, -1, -1)",
      "metadata": {
        "trusted": true
      },
      "outputs": [],
      "execution_count": null
    },
    {
      "id": "83fc0a0d-650f-46de-9f95-8c5919a02c0d",
      "cell_type": "code",
      "source": "# Plot the result\nplt.fill_between(G2_1, f2_min[0, :], f2_max[0, :], color='blue', alpha=0.2, label=r'$p_{\\mathcal{L}}$')\nplt.fill_between(G2_2, f2_min[1, :], f2_max[1, :], color='blue', alpha=0.5, label=r'$\\tilde{p}_{\\mathcal{L}}$')\nplt.plot(G2_1, f2_min[0,:], color='black', linewidth=0.8)  \nplt.plot(G2_1, f2_max[0,:], color='black', linewidth=0.8)\nplt.plot(G2_2, f2_min[1,:], color='black', linewidth=0.8)  \nplt.plot(G2_2, f2_max[1,:], color='black', linewidth=0.8)\n# Adding labels and formatting\nplt.xlabel(r'$g_2$', fontsize=15)\nplt.ylabel(r'$f_2$', fontsize=15)\nplt.xlim([0.05, 0.38])\nplt.ylim([-0.005, 0.075])\nplt.legend(fontsize=15, loc='upper left', frameon=False)\nplt.show()",
      "metadata": {
        "trusted": true
      },
      "outputs": [],
      "execution_count": null
    },
    {
      "id": "17942f42-5f77-4fd4-8f28-64c64554f66d",
      "cell_type": "code",
      "source": "",
      "metadata": {
        "trusted": true
      },
      "outputs": [],
      "execution_count": null
    }
  ]
}
